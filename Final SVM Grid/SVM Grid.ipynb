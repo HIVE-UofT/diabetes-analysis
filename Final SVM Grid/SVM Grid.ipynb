{
 "cells": [
  {
   "cell_type": "code",
   "execution_count": 1,
   "id": "5d7c49ec-250b-4a02-9a53-ca3a8295ce48",
   "metadata": {},
   "outputs": [],
   "source": [
    "from sklearn.metrics import accuracy_score, precision_score, recall_score, f1_score\n",
    "from sklearn.model_selection import cross_val_predict\n",
    "from sklearn.preprocessing import StandardScaler"
   ]
  },
  {
   "cell_type": "code",
   "execution_count": 2,
   "id": "ae7c9ebb-42c9-485d-ab8b-0f528c90060b",
   "metadata": {},
   "outputs": [],
   "source": [
    "import pickle\n",
    "import pandas as pd\n",
    "\n",
    "LR_features = [\n",
    "    'remainder__Active transportation', # from toronto only\n",
    "    'remainder__Rate of Active population', # in toronto CMA\n",
    "    'remainder__Overweight',\n",
    "    'remainder__Obese',\n",
    "    'remainder__log_median_age',\n",
    "]\n",
    "\n",
    "X_resampled_S = pd.read_csv(\"x_train.csv\")\n",
    "X_test_S = pd.read_csv(\"x_test.csv\")\n",
    "X_ext_S = pd.read_csv(\"x_ext.csv\")\n",
    "\n",
    "y_resampled_S = pd.read_csv(\"y_train.csv\")\n",
    "y_test_S = pd.read_csv(\"y_test.csv\")\n",
    "y_ext_S = pd.read_csv(\"y_ext.csv\")"
   ]
  },
  {
   "cell_type": "code",
   "execution_count": 3,
   "id": "9b0eddf4-2fac-4cdb-a01a-7a3f38f867a9",
   "metadata": {},
   "outputs": [],
   "source": [
    "#Fitting the data\n",
    "scaler = StandardScaler()\n",
    "X_train_scaled_SVM = scaler.fit_transform(X_resampled_S[LR_features])\n",
    "X_test_scaled_SVM = scaler.transform(X_test_S[LR_features])\n",
    "X_ext_scaled_SVM = scaler.transform(X_ext_S[LR_features])\n",
    "\n",
    "X_train = X_train_scaled_SVM\n",
    "X_test = X_test_scaled_SVM\n",
    "X_ext = X_ext_scaled_SVM"
   ]
  },
  {
   "cell_type": "code",
   "execution_count": 4,
   "id": "e46f74fa-322c-49a7-a206-d8902b433ecb",
   "metadata": {},
   "outputs": [
    {
     "name": "stderr",
     "output_type": "stream",
     "text": [
      "  0%|          | 0/2 [00:00<?, ?it/s]C:\\Users\\Amirhosein Rostami\\AppData\\Local\\Temp\\ipykernel_19904\\2795186993.py:84: FutureWarning: The behavior of DataFrame concatenation with empty or all-NA entries is deprecated. In a future version, this will no longer exclude empty or all-NA columns when determining the result dtypes. To retain the old behavior, exclude the relevant entries before the concat operation.\n",
      "  results_SVM = pd.concat([results_SVM, pd.DataFrame([new_row])], ignore_index=True)\n",
      "100%|██████████| 2/2 [00:58<00:00, 29.14s/it]\n"
     ]
    }
   ],
   "source": [
    "from tqdm import tqdm\n",
    "from sklearn.svm import SVC\n",
    "\n",
    "# Extract results into a DataFrame\n",
    "results_SVM = pd.DataFrame(columns=[\n",
    "    'kernel',\n",
    "    'c',\n",
    "    'gamma',\n",
    "\n",
    "    'train_acc',\n",
    "    'train_prec',\n",
    "    'train_recall',\n",
    "    'train_f1',\n",
    "\n",
    "    'test_acc',\n",
    "    'test_prec',\n",
    "    'test_recall',\n",
    "    'test_f1',\n",
    "\n",
    "    'ext_acc',\n",
    "    'ext_prec',\n",
    "    'ext_recall',\n",
    "    'ext_f1',\n",
    "])\n",
    "\n",
    "x_train = X_train_scaled_SVM\n",
    "y_train = y_resampled_S['Diabetes']\n",
    "x_test = X_test_scaled_SVM\n",
    "y_test = y_test_S['Diabetes']\n",
    "x_ext = X_ext_scaled_SVM\n",
    "y_ext = y_ext_S['Diabetes']\n",
    "\n",
    "C = [10**(i) for i in range(-3,4)]\n",
    "kernel = ['rbf', 'linear'] #, 'poly', 'sigmoid']\n",
    "gamma = [10**(i) for i in range(-6,2)]\n",
    "\n",
    "for k in tqdm(kernel):\n",
    "  for c in C:\n",
    "    for g in gamma:\n",
    "      svm = SVC(kernel=k, C=c, gamma=g, class_weight=None, probability=True)\n",
    "      svm.fit(x_train, y_train)\n",
    "\n",
    "      y_pred_train = cross_val_predict(svm, x_train, y_train, cv=5)\n",
    "      train_accuracy = accuracy_score(y_train, y_pred_train)\n",
    "      train_precision  = precision_score(y_train, y_pred_train)\n",
    "      train_recall  = recall_score(y_train, y_pred_train)\n",
    "      train_f1  = f1_score(y_train, y_pred_train)\n",
    "\n",
    "      y_pred_test = svm.predict(x_test)\n",
    "      test_accuracy = accuracy_score(y_test, y_pred_test)\n",
    "      test_precision = precision_score(y_test, y_pred_test)\n",
    "      test_recall = recall_score(y_test, y_pred_test)\n",
    "      test_f1 = f1_score(y_test, y_pred_test)\n",
    "\n",
    "      y_pred_ext = svm.predict(x_ext)\n",
    "      ext_accuracy = accuracy_score(y_ext, y_pred_ext)\n",
    "      ext_precision = precision_score(y_ext, y_pred_ext)\n",
    "      ext_recall = recall_score(y_ext, y_pred_ext)\n",
    "      ext_f1 = f1_score(y_ext, y_pred_ext)\n",
    "\n",
    "      # Sample data for the new row\n",
    "      new_row = {\n",
    "          'kernel': k,\n",
    "          'c': c,\n",
    "          'gamma': g,\n",
    "\n",
    "          'train_acc': train_accuracy,\n",
    "          'train_prec': train_precision,\n",
    "          'train_recall': train_recall,\n",
    "          'train_f1': train_f1,\n",
    "\n",
    "          'test_acc': test_accuracy,\n",
    "          'test_prec': test_precision,\n",
    "          'test_recall': test_recall,\n",
    "          'test_f1': test_f1,\n",
    "\n",
    "          'ext_acc': ext_accuracy,\n",
    "          'ext_prec': ext_precision,\n",
    "          'ext_recall': ext_recall,\n",
    "          'ext_f1': ext_f1,\n",
    "      }\n",
    "\n",
    "      # Add the new row to results_SVM\n",
    "      results_SVM = pd.concat([results_SVM, pd.DataFrame([new_row])], ignore_index=True)\n",
    "\n",
    "results_SVM.to_csv('results_SVM.csv', index=False)"
   ]
  },
  {
   "cell_type": "code",
   "execution_count": 5,
   "id": "5d7045a7-cbb9-45d2-b324-b61a1471f99d",
   "metadata": {},
   "outputs": [
    {
     "name": "stdout",
     "output_type": "stream",
     "text": [
      "Finished\n"
     ]
    }
   ],
   "source": [
    "print(\"Finished\")"
   ]
  },
  {
   "cell_type": "code",
   "execution_count": null,
   "id": "35f46225-6016-47a7-8cc5-bc21ea84c9eb",
   "metadata": {},
   "outputs": [],
   "source": []
  }
 ],
 "metadata": {
  "kernelspec": {
   "display_name": "Python 3 (ipykernel)",
   "language": "python",
   "name": "python3"
  },
  "language_info": {
   "codemirror_mode": {
    "name": "ipython",
    "version": 3
   },
   "file_extension": ".py",
   "mimetype": "text/x-python",
   "name": "python",
   "nbconvert_exporter": "python",
   "pygments_lexer": "ipython3",
   "version": "3.12.4"
  }
 },
 "nbformat": 4,
 "nbformat_minor": 5
}
